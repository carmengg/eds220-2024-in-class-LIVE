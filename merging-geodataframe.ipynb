{
 "cells": [
  {
   "cell_type": "markdown",
   "id": "ab466169-bb13-4984-869c-6adeac663069",
   "metadata": {},
   "source": [
    "## Joining gpd.GeoDataFrames with pd.DataFrames\n",
    "\n",
    "TL;DR: when doing a merge between a geo-dataframe and a dataframe the geo-dataframe must on the \"left side\" of the merge to retain the geospatial information. \n",
    "\n",
    "See geopandas documentation: https://geopandas.org/en/stable/docs/user_guide/mergingdata.html#attribute-joins\n",
    "\n",
    "Example from today's class:"
   ]
  },
  {
   "cell_type": "code",
   "execution_count": 1,
   "id": "db48ceca-eb53-4924-bea0-5f24397951fe",
   "metadata": {
    "tags": []
   },
   "outputs": [],
   "source": [
    "import os\n",
    "import pandas as pd\n",
    "import matplotlib.pyplot as plt\n",
    "import geopandas as gpd\n",
    "\n",
    "\"\"\"\n",
    "Set environment variable 'PROJ_LIB' to specify the path for the PROJ library\n",
    "Resolves ERROR 1: PROJ: proj_create_from_database\n",
    "\"\"\"\"\"\n",
    "os.environ['PROJ_LIB'] = '/opt/anaconda3/share/proj'\n",
    "\n",
    "# -------------------------------------------------------\n",
    "# Import data\n",
    "\n",
    "# Path to course data folder\n",
    "data_folder_fp = os.path.join('/',\n",
    "                              'courses',\n",
    "                              'EDS220', \n",
    "                              'data')\n",
    "\n",
    "# Import and simplify countries shapefile\n",
    "fp = os.path.join(data_folder_fp, \n",
    "                  'ne_50m_admin_0_countries', \n",
    "                  'ne_50m_admin_0_countries.shp')\n",
    "\n",
    "countries = gpd.read_file(fp)\n",
    "countries.columns = countries.columns.str.lower()\n",
    "countries = countries[['admin', 'type', 'geometry']]\n",
    "\n",
    "# Import Arctic communities GeoJSON directly from URL\n",
    "URL = 'https://cn.dataone.org/cn/v2/resolve/urn%3Auuid%3Aed7718ae-fb0d-43dd-9270-fbfe80bfc7a4'\n",
    "communities = gpd.read_file(URL)\n",
    "\n",
    "# Import country names CSV\n",
    "fp = os.path.join(data_folder_fp, \n",
    "                  'country_names', \n",
    "                  'country_names.csv')\n",
    "\n",
    "country_names = pd.read_csv(fp)\n",
    "\n",
    "\n",
    "\n",
    "# -------------------------------------------------------\n",
    "# Prepare data for merging\n",
    "\n",
    "# Reproject countries to ensure CRS consistency\n",
    "countries = countries.to_crs(communities.crs)\n",
    "assert countries.crs == communities.crs\n",
    "\n",
    "\n",
    "# Create a dataframe with the number of communities per country\n",
    "n_comms = (communities.groupby('country')\n",
    "                      .size()\n",
    "                      .reset_index(name='n_communities')\n",
    "          )\n",
    "\n",
    "n_comms = pd.merge(n_comms,\n",
    "                   country_names, \n",
    "                   how='left', \n",
    "                   on='country')"
   ]
  },
  {
   "cell_type": "code",
   "execution_count": 2,
   "id": "867c1e2b-8f19-43a9-8a2e-b2359e5513c0",
   "metadata": {
    "tags": []
   },
   "outputs": [
    {
     "data": {
      "text/html": [
       "<div>\n",
       "<style scoped>\n",
       "    .dataframe tbody tr th:only-of-type {\n",
       "        vertical-align: middle;\n",
       "    }\n",
       "\n",
       "    .dataframe tbody tr th {\n",
       "        vertical-align: top;\n",
       "    }\n",
       "\n",
       "    .dataframe thead th {\n",
       "        text-align: right;\n",
       "    }\n",
       "</style>\n",
       "<table border=\"1\" class=\"dataframe\">\n",
       "  <thead>\n",
       "    <tr style=\"text-align: right;\">\n",
       "      <th></th>\n",
       "      <th>country</th>\n",
       "      <th>n_communities</th>\n",
       "      <th>admin</th>\n",
       "    </tr>\n",
       "  </thead>\n",
       "  <tbody>\n",
       "    <tr>\n",
       "      <th>0</th>\n",
       "      <td>AX</td>\n",
       "      <td>1</td>\n",
       "      <td>Aland Islands</td>\n",
       "    </tr>\n",
       "    <tr>\n",
       "      <th>1</th>\n",
       "      <td>BY</td>\n",
       "      <td>8</td>\n",
       "      <td>Belarus</td>\n",
       "    </tr>\n",
       "    <tr>\n",
       "      <th>2</th>\n",
       "      <td>CA</td>\n",
       "      <td>7</td>\n",
       "      <td>Canada</td>\n",
       "    </tr>\n",
       "    <tr>\n",
       "      <th>3</th>\n",
       "      <td>DK</td>\n",
       "      <td>72</td>\n",
       "      <td>Denmark</td>\n",
       "    </tr>\n",
       "    <tr>\n",
       "      <th>4</th>\n",
       "      <td>EE</td>\n",
       "      <td>14</td>\n",
       "      <td>Estonia</td>\n",
       "    </tr>\n",
       "    <tr>\n",
       "      <th>5</th>\n",
       "      <td>FI</td>\n",
       "      <td>98</td>\n",
       "      <td>Finland</td>\n",
       "    </tr>\n",
       "    <tr>\n",
       "      <th>6</th>\n",
       "      <td>FO</td>\n",
       "      <td>1</td>\n",
       "      <td>Faroe Islands</td>\n",
       "    </tr>\n",
       "    <tr>\n",
       "      <th>7</th>\n",
       "      <td>GB</td>\n",
       "      <td>96</td>\n",
       "      <td>United Kingdom</td>\n",
       "    </tr>\n",
       "    <tr>\n",
       "      <th>8</th>\n",
       "      <td>GL</td>\n",
       "      <td>1</td>\n",
       "      <td>Greenland</td>\n",
       "    </tr>\n",
       "    <tr>\n",
       "      <th>9</th>\n",
       "      <td>IS</td>\n",
       "      <td>5</td>\n",
       "      <td>Iceland</td>\n",
       "    </tr>\n",
       "    <tr>\n",
       "      <th>10</th>\n",
       "      <td>LT</td>\n",
       "      <td>26</td>\n",
       "      <td>Lithuania</td>\n",
       "    </tr>\n",
       "    <tr>\n",
       "      <th>11</th>\n",
       "      <td>LV</td>\n",
       "      <td>25</td>\n",
       "      <td>Latvia</td>\n",
       "    </tr>\n",
       "    <tr>\n",
       "      <th>12</th>\n",
       "      <td>NO</td>\n",
       "      <td>48</td>\n",
       "      <td>Norway</td>\n",
       "    </tr>\n",
       "    <tr>\n",
       "      <th>13</th>\n",
       "      <td>RU</td>\n",
       "      <td>774</td>\n",
       "      <td>Russia</td>\n",
       "    </tr>\n",
       "    <tr>\n",
       "      <th>14</th>\n",
       "      <td>SE</td>\n",
       "      <td>133</td>\n",
       "      <td>Sweden</td>\n",
       "    </tr>\n",
       "    <tr>\n",
       "      <th>15</th>\n",
       "      <td>US</td>\n",
       "      <td>115</td>\n",
       "      <td>United States of America</td>\n",
       "    </tr>\n",
       "  </tbody>\n",
       "</table>\n",
       "</div>"
      ],
      "text/plain": [
       "   country  n_communities                     admin\n",
       "0       AX              1             Aland Islands\n",
       "1       BY              8                   Belarus\n",
       "2       CA              7                    Canada\n",
       "3       DK             72                   Denmark\n",
       "4       EE             14                   Estonia\n",
       "5       FI             98                   Finland\n",
       "6       FO              1             Faroe Islands\n",
       "7       GB             96            United Kingdom\n",
       "8       GL              1                 Greenland\n",
       "9       IS              5                   Iceland\n",
       "10      LT             26                 Lithuania\n",
       "11      LV             25                    Latvia\n",
       "12      NO             48                    Norway\n",
       "13      RU            774                    Russia\n",
       "14      SE            133                    Sweden\n",
       "15      US            115  United States of America"
      ]
     },
     "execution_count": 2,
     "metadata": {},
     "output_type": "execute_result"
    }
   ],
   "source": [
    "# Inspect data frame\n",
    "n_comms"
   ]
  },
  {
   "cell_type": "code",
   "execution_count": 3,
   "id": "e9b7ade4-8da0-4987-ae51-c558ec82a60d",
   "metadata": {
    "tags": []
   },
   "outputs": [
    {
     "name": "stdout",
     "output_type": "stream",
     "text": [
      "This is a:  <class 'geopandas.geodataframe.GeoDataFrame'>\n"
     ]
    },
    {
     "data": {
      "text/html": [
       "<div>\n",
       "<style scoped>\n",
       "    .dataframe tbody tr th:only-of-type {\n",
       "        vertical-align: middle;\n",
       "    }\n",
       "\n",
       "    .dataframe tbody tr th {\n",
       "        vertical-align: top;\n",
       "    }\n",
       "\n",
       "    .dataframe thead th {\n",
       "        text-align: right;\n",
       "    }\n",
       "</style>\n",
       "<table border=\"1\" class=\"dataframe\">\n",
       "  <thead>\n",
       "    <tr style=\"text-align: right;\">\n",
       "      <th></th>\n",
       "      <th>admin</th>\n",
       "      <th>type</th>\n",
       "      <th>geometry</th>\n",
       "      <th>country</th>\n",
       "      <th>n_communities</th>\n",
       "    </tr>\n",
       "  </thead>\n",
       "  <tbody>\n",
       "    <tr>\n",
       "      <th>0</th>\n",
       "      <td>United States of America</td>\n",
       "      <td>Country</td>\n",
       "      <td>MULTIPOLYGON (((-132.74687 56.52568, -132.7576...</td>\n",
       "      <td>US</td>\n",
       "      <td>115</td>\n",
       "    </tr>\n",
       "    <tr>\n",
       "      <th>1</th>\n",
       "      <td>United Kingdom</td>\n",
       "      <td>Country</td>\n",
       "      <td>MULTIPOLYGON (((-2.66768 51.62300, -2.74214 51...</td>\n",
       "      <td>GB</td>\n",
       "      <td>96</td>\n",
       "    </tr>\n",
       "    <tr>\n",
       "      <th>2</th>\n",
       "      <td>Sweden</td>\n",
       "      <td>Sovereign country</td>\n",
       "      <td>MULTIPOLYGON (((19.07646 57.83594, 18.99375 57...</td>\n",
       "      <td>SE</td>\n",
       "      <td>133</td>\n",
       "    </tr>\n",
       "  </tbody>\n",
       "</table>\n",
       "</div>"
      ],
      "text/plain": [
       "                      admin               type  \\\n",
       "0  United States of America            Country   \n",
       "1            United Kingdom            Country   \n",
       "2                    Sweden  Sovereign country   \n",
       "\n",
       "                                            geometry country  n_communities  \n",
       "0  MULTIPOLYGON (((-132.74687 56.52568, -132.7576...      US            115  \n",
       "1  MULTIPOLYGON (((-2.66768 51.62300, -2.74214 51...      GB             96  \n",
       "2  MULTIPOLYGON (((19.07646 57.83594, 18.99375 57...      SE            133  "
      ]
     },
     "execution_count": 3,
     "metadata": {},
     "output_type": "execute_result"
    }
   ],
   "source": [
    "# First merge: countries geo-dataframe is on the left side\n",
    "merge1 = pd.merge(countries, \n",
    "                  n_comms,\n",
    "                  how='inner',\n",
    "                  on='admin')\n",
    "\n",
    "print(\"This is a: \", type(merge1))\n",
    "merge1.head(3)"
   ]
  },
  {
   "cell_type": "markdown",
   "id": "fb69034f-289a-4535-8312-1e90fa186e67",
   "metadata": {},
   "source": [
    "Notice the output is still a gpd.GeoDataFrame. Since the geospatial information is still interpreted as such, when we plot `merge1` we get a map:"
   ]
  },
  {
   "cell_type": "code",
   "execution_count": 4,
   "id": "2d4cfd64-d3c6-4161-80d9-429973f5688d",
   "metadata": {
    "tags": []
   },
   "outputs": [
    {
     "data": {
      "text/plain": [
       "<Axes: >"
      ]
     },
     "execution_count": 4,
     "metadata": {},
     "output_type": "execute_result"
    },
    {
     "data": {
      "image/png": "[encoded data removed]",
      "text/plain": [
       "<Figure size 640x480 with 1 Axes>"
      ]
     },
     "metadata": {},
     "output_type": "display_data"
    }
   ],
   "source": [
    "merge1.plot()"
   ]
  },
  {
   "cell_type": "code",
   "execution_count": 5,
   "id": "d287efbd-5362-4ccc-8d0f-3109f9f2b07f",
   "metadata": {
    "tags": []
   },
   "outputs": [
    {
     "name": "stdout",
     "output_type": "stream",
     "text": [
      "This is a:  <class 'pandas.core.frame.DataFrame'>\n"
     ]
    },
    {
     "data": {
      "text/html": [
       "<div>\n",
       "<style scoped>\n",
       "    .dataframe tbody tr th:only-of-type {\n",
       "        vertical-align: middle;\n",
       "    }\n",
       "\n",
       "    .dataframe tbody tr th {\n",
       "        vertical-align: top;\n",
       "    }\n",
       "\n",
       "    .dataframe thead th {\n",
       "        text-align: right;\n",
       "    }\n",
       "</style>\n",
       "<table border=\"1\" class=\"dataframe\">\n",
       "  <thead>\n",
       "    <tr style=\"text-align: right;\">\n",
       "      <th></th>\n",
       "      <th>country</th>\n",
       "      <th>n_communities</th>\n",
       "      <th>admin</th>\n",
       "      <th>type</th>\n",
       "      <th>geometry</th>\n",
       "    </tr>\n",
       "  </thead>\n",
       "  <tbody>\n",
       "    <tr>\n",
       "      <th>0</th>\n",
       "      <td>BY</td>\n",
       "      <td>8</td>\n",
       "      <td>Belarus</td>\n",
       "      <td>Sovereign country</td>\n",
       "      <td>POLYGON ((31.76338 52.10107, 31.57373 52.10811...</td>\n",
       "    </tr>\n",
       "    <tr>\n",
       "      <th>1</th>\n",
       "      <td>CA</td>\n",
       "      <td>7</td>\n",
       "      <td>Canada</td>\n",
       "      <td>Sovereign country</td>\n",
       "      <td>MULTIPOLYGON (((-132.65552 54.12749, -132.5640...</td>\n",
       "    </tr>\n",
       "    <tr>\n",
       "      <th>2</th>\n",
       "      <td>DK</td>\n",
       "      <td>72</td>\n",
       "      <td>Denmark</td>\n",
       "      <td>Country</td>\n",
       "      <td>MULTIPOLYGON (((12.56875 55.78506, 12.57119 55...</td>\n",
       "    </tr>\n",
       "  </tbody>\n",
       "</table>\n",
       "</div>"
      ],
      "text/plain": [
       "  country  n_communities    admin               type  \\\n",
       "0      BY              8  Belarus  Sovereign country   \n",
       "1      CA              7   Canada  Sovereign country   \n",
       "2      DK             72  Denmark            Country   \n",
       "\n",
       "                                            geometry  \n",
       "0  POLYGON ((31.76338 52.10107, 31.57373 52.10811...  \n",
       "1  MULTIPOLYGON (((-132.65552 54.12749, -132.5640...  \n",
       "2  MULTIPOLYGON (((12.56875 55.78506, 12.57119 55...  "
      ]
     },
     "execution_count": 5,
     "metadata": {},
     "output_type": "execute_result"
    }
   ],
   "source": [
    "# Second merge: countries geo-dataframe is on the right side\n",
    "merge2 = pd.merge(n_comms,\n",
    "                  countries, \n",
    "                  how='inner',\n",
    "                  on='admin')\n",
    "\n",
    "print(\"This is a: \", type(merge2))\n",
    "merge2.head(3)"
   ]
  },
  {
   "cell_type": "markdown",
   "id": "fbb6793a-2372-44ae-8228-2d51a8eb754e",
   "metadata": {},
   "source": [
    "Notice that when the geodataframe was on the right, the resulting merge is a plain pandas data frame: the geospatial information is lost. So, when we do `.plot()` we are getting a plot with the numeric data instead of the map."
   ]
  },
  {
   "cell_type": "code",
   "execution_count": 6,
   "id": "9ec275fe-9a26-4aa7-9193-2cee9cb0cacc",
   "metadata": {
    "tags": []
   },
   "outputs": [
    {
     "data": {
      "text/plain": [
       "<Axes: >"
      ]
     },
     "execution_count": 6,
     "metadata": {},
     "output_type": "execute_result"
    },
    {
     "data": {
      "image/png": "[encoded data removed]",
      "text/plain": [
       "<Figure size 640x480 with 1 Axes>"
      ]
     },
     "metadata": {},
     "output_type": "display_data"
    }
   ],
   "source": [
    "merge2.plot()"
   ]
  },
  {
   "cell_type": "markdown",
   "id": "ef1ec815-1a87-421d-977e-9a5e5770101f",
   "metadata": {},
   "source": [
    "So, merge with your geo-df on the left or use the `merge` method called from the geo-df itself. The `geopandas` documentation has a bit more info about this: \n",
    "https://geopandas.org/en/stable/docs/user_guide/mergingdata.html#attribute-joins"
   ]
  }
 ],
 "metadata": {
  "kernelspec": {
   "display_name": "Anaconda 3 (EDS220)",
   "language": "python",
   "name": "eds220-env"
  },
  "language_info": {
   "codemirror_mode": {
    "name": "ipython",
    "version": 3
   },
   "file_extension": ".py",
   "mimetype": "text/x-python",
   "name": "python",
   "nbconvert_exporter": "python",
   "pygments_lexer": "ipython3",
   "version": "3.11.4"
  }
 },
 "nbformat": 4,
 "nbformat_minor": 5
}
